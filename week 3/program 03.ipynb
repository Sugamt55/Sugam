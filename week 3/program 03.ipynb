{
 "cells": [
  {
   "cell_type": "markdown",
   "id": "06acf16f",
   "metadata": {},
   "source": [
    "1.Modify your greeting program so that if the user does not enter a name (i.e. they\n",
    "just press enter), the program responds \"Hello, Stranger!\". Otherwise it should print\n",
    "a greeting with their name as before."
   ]
  },
  {
   "cell_type": "code",
   "execution_count": 1,
   "id": "a606a1b1",
   "metadata": {},
   "outputs": [
    {
     "name": "stdout",
     "output_type": "stream",
     "text": [
      "Enter your name: Sugam\n",
      "Hello, Sugam! Congratulations on taking your first step to becoming a programmer!\n"
     ]
    }
   ],
   "source": [
    "# Personalized Cheery Message Program with Name Check\n",
    "\n",
    "def print_personalized_cheery_message(name):\n",
    "    if name:\n",
    "        print(f\"Hello, {name}! Congratulations on taking your first step to becoming a programmer!\")\n",
    "    else:\n",
    "        print(\"Hello, Stranger!\")\n",
    "\n",
    "# Get user input for their name\n",
    "user_name = input(\"Enter your name: \")\n",
    "\n",
    "# Run the program with the provided name\n",
    "print_personalized_cheery_message(user_name)\n"
   ]
  },
  {
   "cell_type": "markdown",
   "id": "ccb895d1",
   "metadata": {},
   "source": [
    "2.Write a program that simulates the way in which a user might choose a password.\n",
    "The program should prompt for a new password, and then prompt again. If the two\n",
    "passwords entered are the same the program should say \"Password Set\" or\n",
    "similar, otherwise it should report an error."
   ]
  },
  {
   "cell_type": "code",
   "execution_count": 2,
   "id": "8c1d45b7",
   "metadata": {},
   "outputs": [
    {
     "name": "stdout",
     "output_type": "stream",
     "text": [
      "Enter a new password: 2024\n",
      "Confirm your password: 2024\n",
      "Password Set. Your password has been successfully updated.\n"
     ]
    }
   ],
   "source": [
    "# Password Setting Program\n",
    "\n",
    "def set_password():\n",
    "    # Prompt for a new password\n",
    "    password1 = input(\"Enter a new password: \")\n",
    "\n",
    "    # Prompt for password confirmation\n",
    "    password2 = input(\"Confirm your password: \")\n",
    "\n",
    "    # Check if passwords match\n",
    "    if password1 == password2:\n",
    "        print(\"Password Set. Your password has been successfully updated.\")\n",
    "    else:\n",
    "        print(\"Error: Passwords do not match. Please try again.\")\n",
    "\n",
    "# Run the program to set a password\n",
    "set_password()\n"
   ]
  },
  {
   "cell_type": "markdown",
   "id": "b1f1cfb6",
   "metadata": {},
   "source": [
    "3.Modify your previous program so that the password must be between 8 and 12\n",
    "characters (inclusive) long"
   ]
  },
  {
   "cell_type": "code",
   "execution_count": 3,
   "id": "41947fc7",
   "metadata": {},
   "outputs": [
    {
     "name": "stdout",
     "output_type": "stream",
     "text": [
      "Enter a new password (8 to 12 characters): 09876543\n",
      "Confirm your password: 09876543\n",
      "Password Set. Your password has been successfully updated.\n"
     ]
    }
   ],
   "source": [
    "# Modified Password Setting Program\n",
    "\n",
    "def set_password():\n",
    "    # Prompt for a new password\n",
    "    password1 = input(\"Enter a new password (8 to 12 characters): \")\n",
    "\n",
    "    # Check password length\n",
    "    if 8 <= len(password1) <= 12:\n",
    "        # Prompt for password confirmation\n",
    "        password2 = input(\"Confirm your password: \")\n",
    "\n",
    "        # Check if passwords match\n",
    "        if password1 == password2:\n",
    "            print(\"Password Set. Your password has been successfully updated.\")\n",
    "        else:\n",
    "            print(\"Error: Passwords do not match. Please try again.\")\n",
    "    else:\n",
    "        print(\"Error: Password must be between 8 and 12 characters.\")\n",
    "\n",
    "# Run the program to set a password\n",
    "set_password()\n"
   ]
  },
  {
   "cell_type": "markdown",
   "id": "23095e22",
   "metadata": {},
   "source": [
    "4.Modify your program again so that the chosen password cannot be one of a list of\n",
    "common passwords, defined thus:\n",
    "BAD_PASSWORDS = ['password', 'letmein', 'sesame', 'hello', 'justinbieber']"
   ]
  },
  {
   "cell_type": "code",
   "execution_count": 7,
   "id": "4981ecf4",
   "metadata": {},
   "outputs": [
    {
     "name": "stdout",
     "output_type": "stream",
     "text": [
      "Enter a new password (8 to 12 characters): welcome2024\n",
      "Confirm your password: welcome2024\n",
      "Password Set. Your password has been successfully updated.\n"
     ]
    }
   ],
   "source": [
    "# Enhanced Password Setting Program\n",
    "\n",
    "BAD_PASSWORDS = ['password', 'letmein', 'sesame', 'hello', 'justinbieber']\n",
    "\n",
    "def set_password():\n",
    "    # Prompt for a new password\n",
    "    password1 = input(\"Enter a new password (8 to 12 characters): \")\n",
    "\n",
    "    # Check password length\n",
    "    if 8 <= len(password1) <= 12:\n",
    "        # Check if the password is not in the list of common passwords\n",
    "        if password1 not in BAD_PASSWORDS:\n",
    "            # Prompt for password confirmation\n",
    "            password2 = input(\"Confirm your password: \")\n",
    "\n",
    "            # Check if passwords match\n",
    "            if password1 == password2:\n",
    "                print(\"Password Set. Your password has been successfully updated.\")\n",
    "            else:\n",
    "                print(\"Error: Passwords do not match. Please try again.\")\n",
    "        else:\n",
    "            print(\"Error: Password is too common. Choose a more secure password.\")\n",
    "    else:\n",
    "        print(\"Error: Password must be between 8 and 12 characters.\")\n",
    "\n",
    "# Run the program to set a password\n",
    "set_password()\n"
   ]
  },
  {
   "cell_type": "markdown",
   "id": "2f4e3963",
   "metadata": {},
   "source": [
    "5.Modify your program a final time so that it executes until the user successfully\n",
    "chooses a password. That is, if the password chosen fails any of the checks, the\n",
    "program should return to asking for the password the first time."
   ]
  },
  {
   "cell_type": "code",
   "execution_count": 6,
   "id": "c5d07b32",
   "metadata": {},
   "outputs": [
    {
     "name": "stdout",
     "output_type": "stream",
     "text": [
      "Enter a new password (8 to 12 characters): password\n",
      "Error: Password is too common. Choose a more secure password.\n",
      "Enter a new password (8 to 12 characters): 123456789\n",
      "Confirm your password: 123456789\n",
      "Password Set. Your password has been successfully updated.\n"
     ]
    }
   ],
   "source": [
    "# Final Password Setting Program\n",
    "\n",
    "BAD_PASSWORDS = ['password', 'letmein', 'sesame', 'hello', 'justinbieber']\n",
    "\n",
    "def set_password():\n",
    "    while True:\n",
    "        # Prompt for a new password\n",
    "        password1 = input(\"Enter a new password (8 to 12 characters): \")\n",
    "\n",
    "        # Check password length\n",
    "        if 8 <= len(password1) <= 12:\n",
    "            # Check if the password is not in the list of common passwords\n",
    "            if password1 not in BAD_PASSWORDS:\n",
    "                # Prompt for password confirmation\n",
    "                password2 = input(\"Confirm your password: \")\n",
    "\n",
    "                # Check if passwords match\n",
    "                if password1 == password2:\n",
    "                    print(\"Password Set. Your password has been successfully updated.\")\n",
    "                    break  # Exit the loop if the password is successfully set\n",
    "                else:\n",
    "                    print(\"Error: Passwords do not match. Please try again.\")\n",
    "            else:\n",
    "                print(\"Error: Password is too common. Choose a more secure password.\")\n",
    "        else:\n",
    "            print(\"Error: Password must be between 8 and 12 characters.\")\n",
    "\n",
    "# Run the program to set a password\n",
    "set_password()\n"
   ]
  },
  {
   "cell_type": "markdown",
   "id": "db40fb0a",
   "metadata": {},
   "source": [
    "6.Write a program that displays the \"Seven Times Table\". That is, the result of\n",
    "multiplying 7 by every number from 0 to 12 inclusive. The output might start:\n",
    "0 x 7 = 0\n",
    "1 x 7 = 7\n",
    "2 x 7 = 14\n",
    "and so on."
   ]
  },
  {
   "cell_type": "code",
   "execution_count": 7,
   "id": "41544360",
   "metadata": {},
   "outputs": [
    {
     "name": "stdout",
     "output_type": "stream",
     "text": [
      "0 x 7 = 0\n",
      "1 x 7 = 7\n",
      "2 x 7 = 14\n",
      "3 x 7 = 21\n",
      "4 x 7 = 28\n",
      "5 x 7 = 35\n",
      "6 x 7 = 42\n",
      "7 x 7 = 49\n",
      "8 x 7 = 56\n",
      "9 x 7 = 63\n",
      "10 x 7 = 70\n",
      "11 x 7 = 77\n",
      "12 x 7 = 84\n"
     ]
    }
   ],
   "source": [
    "# Seven Times Table Program\n",
    "\n",
    "def display_seven_times_table():\n",
    "    for i in range(13):  # Numbers from 0 to 12 inclusive\n",
    "        result = i * 7\n",
    "        print(f\"{i} x 7 = {result}\")\n",
    "\n",
    "# Run the program to display the Seven Times Table\n",
    "display_seven_times_table()\n"
   ]
  },
  {
   "cell_type": "markdown",
   "id": "8a376d0a",
   "metadata": {},
   "source": [
    "7.Modify your \"Times Table\" program so that the user enters the number of the table\n",
    "they require. This number should be between 0 and 12 inclusive."
   ]
  },
  {
   "cell_type": "code",
   "execution_count": 8,
   "id": "c1ac9fab",
   "metadata": {},
   "outputs": [
    {
     "name": "stdout",
     "output_type": "stream",
     "text": [
      "Enter the times table number (0 to 12): 4\n",
      "0 x 4 = 0\n",
      "1 x 4 = 4\n",
      "2 x 4 = 8\n",
      "3 x 4 = 12\n",
      "4 x 4 = 16\n",
      "5 x 4 = 20\n",
      "6 x 4 = 24\n",
      "7 x 4 = 28\n",
      "8 x 4 = 32\n",
      "9 x 4 = 36\n",
      "10 x 4 = 40\n",
      "11 x 4 = 44\n",
      "12 x 4 = 48\n"
     ]
    }
   ],
   "source": [
    "# Modified Times Table Program\n",
    "\n",
    "def display_times_table(table_number):\n",
    "    for i in range(13):  # Numbers from 0 to 12 inclusive\n",
    "        result = i * table_number\n",
    "        print(f\"{i} x {table_number} = {result}\")\n",
    "\n",
    "# Get user input for the times table number\n",
    "try:\n",
    "    user_input = int(input(\"Enter the times table number (0 to 12): \"))\n",
    "    if 0 <= user_input <= 12:\n",
    "        # Run the program to display the requested times table\n",
    "        display_times_table(user_input)\n",
    "    else:\n",
    "        print(\"Error: Please enter a number between 0 and 12.\")\n",
    "except ValueError:\n",
    "    print(\"Error: Please enter a valid integer.\")\n"
   ]
  },
  {
   "cell_type": "markdown",
   "id": "464e0983",
   "metadata": {},
   "source": [
    "8.Modify the \"Times Table\" again so that the user still enters the number of the table,\n",
    "but if this number is negative the table is printed backwards. So entering \"-7\"\n",
    "would produce the Seven Times Table starting at \"12 times\" down to \"0 times\".\n"
   ]
  },
  {
   "cell_type": "code",
   "execution_count": 9,
   "id": "1a19cc04",
   "metadata": {},
   "outputs": [
    {
     "name": "stdout",
     "output_type": "stream",
     "text": [
      "Enter the times table number: 5\n",
      "0 x 5 = 0\n",
      "1 x 5 = 5\n",
      "2 x 5 = 10\n",
      "3 x 5 = 15\n",
      "4 x 5 = 20\n",
      "5 x 5 = 25\n",
      "6 x 5 = 30\n",
      "7 x 5 = 35\n",
      "8 x 5 = 40\n",
      "9 x 5 = 45\n",
      "10 x 5 = 50\n",
      "11 x 5 = 55\n",
      "12 x 5 = 60\n"
     ]
    }
   ],
   "source": [
    "# Modified Times Table Program with Reversed Table\n",
    "\n",
    "def display_times_table(table_number):\n",
    "    if table_number >= 0:\n",
    "        for i in range(13):  # Numbers from 0 to 12 inclusive\n",
    "            result = i * table_number\n",
    "            print(f\"{i} x {table_number} = {result}\")\n",
    "    else:\n",
    "        for i in range(12, -1, -1):  # Numbers from 12 to 0 inclusive in reverse order\n",
    "            result = i * abs(table_number)\n",
    "            print(f\"{i} x {abs(table_number)} = {result}\")\n",
    "\n",
    "# Get user input for the times table number\n",
    "try:\n",
    "    user_input = int(input(\"Enter the times table number: \"))\n",
    "    # Run the program to display the requested times table\n",
    "    display_times_table(user_input)\n",
    "except ValueError:\n",
    "    print(\"Error: Please enter a valid integer.\")\n"
   ]
  },
  {
   "cell_type": "code",
   "execution_count": null,
   "id": "ca518318",
   "metadata": {},
   "outputs": [],
   "source": []
  }
 ],
 "metadata": {
  "kernelspec": {
   "display_name": "Python 3 (ipykernel)",
   "language": "python",
   "name": "python3"
  },
  "language_info": {
   "codemirror_mode": {
    "name": "ipython",
    "version": 3
   },
   "file_extension": ".py",
   "mimetype": "text/x-python",
   "name": "python",
   "nbconvert_exporter": "python",
   "pygments_lexer": "ipython3",
   "version": "3.9.13"
  }
 },
 "nbformat": 4,
 "nbformat_minor": 5
}
