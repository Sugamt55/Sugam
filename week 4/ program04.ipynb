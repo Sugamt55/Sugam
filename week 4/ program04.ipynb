{
 "cells": [
  {
   "cell_type": "raw",
   "id": "e856ce89",
   "metadata": {},
   "source": [
    "1.Functions are oft en used to validate input. Write a function that accepts a single\n",
    "integer as a parameter and returns True if the integer is in the range 0 to 100\n",
    "(inclusive), or False otherwise. Write a short program to test the function."
   ]
  },
  {
   "cell_type": "code",
   "execution_count": 1,
   "id": "4106003e",
   "metadata": {},
   "outputs": [
    {
     "name": "stdout",
     "output_type": "stream",
     "text": [
      "Enter an integer: 1\n",
      "Input is in the range 0 to 100.\n"
     ]
    }
   ],
   "source": [
    "# Function to validate input range\n",
    "def validate_input(num):\n",
    "    return 0 <= num <= 100\n",
    "\n",
    "# Test the function\n",
    "try:\n",
    "    user_input = int(input(\"Enter an integer: \"))\n",
    "    is_valid = validate_input(user_input)\n",
    "\n",
    "    if is_valid:\n",
    "        print(\"Input is in the range 0 to 100.\")\n",
    "    else:\n",
    "        print(\"Input is outside the range 0 to 100.\")\n",
    "except ValueError:\n",
    "    print(\"Error: Please enter a valid integer.\")\n"
   ]
  },
  {
   "cell_type": "raw",
   "id": "46e56e6e",
   "metadata": {},
   "source": [
    "2.Write a function that has a single string as its parameter, and returns the number of\n",
    "uppercase letters, and the number of lowercase letters in the string. Test the\n",
    "function with a short program."
   ]
  },
  {
   "cell_type": "code",
   "execution_count": 2,
   "id": "bef7fa04",
   "metadata": {},
   "outputs": [
    {
     "name": "stdout",
     "output_type": "stream",
     "text": [
      "Enter a string: s\n",
      "Uppercase letters: 0\n",
      "Lowercase letters: 1\n"
     ]
    }
   ],
   "source": [
    "# Function to count uppercase and lowercase letters\n",
    "def count_upper_lower(input_string):\n",
    "    uppercase_count = sum(1 for char in input_string if char.isupper())\n",
    "    lowercase_count = sum(1 for char in input_string if char.islower())\n",
    "    return uppercase_count, lowercase_count\n",
    "\n",
    "# Test the function\n",
    "user_string = input(\"Enter a string: \")\n",
    "uppercase, lowercase = count_upper_lower(user_string)\n",
    "\n",
    "print(f\"Uppercase letters: {uppercase}\")\n",
    "print(f\"Lowercase letters: {lowercase}\")\n",
    "\n"
   ]
  },
  {
   "cell_type": "raw",
   "id": "75656af0",
   "metadata": {},
   "source": [
    "3.Modify your \"greetings\" program so that the first letter of the name entered is\n",
    "always in uppercase with the rest in lowercase. This should happen even if the user\n",
    "entered their name differently. So if the user entered arthur, ARTHUR, or even\n",
    "arTHur the name should be displayed as Arthur."
   ]
  },
  {
   "cell_type": "code",
   "execution_count": 3,
   "id": "ab4b2158",
   "metadata": {},
   "outputs": [
    {
     "name": "stdout",
     "output_type": "stream",
     "text": [
      "Enter your name: SUGAM THAPA\n",
      "Hello, Sugam thapa! Congratulations on taking your first step to becoming a programmer!\n"
     ]
    }
   ],
   "source": [
    "# Modified Personalized Cheery Message Program with Name Capitalization\n",
    "\n",
    "def print_personalized_cheery_message(name):\n",
    "    if name:\n",
    "        formatted_name = name.capitalize()\n",
    "        print(f\"Hello, {formatted_name}! Congratulations on taking your first step to becoming a programmer!\")\n",
    "    else:\n",
    "        print(\"Hello, Stranger!\")\n",
    "\n",
    "# Get user input for their name\n",
    "user_name = input(\"Enter your name: \")\n",
    "\n",
    "# Run the program with the provided name\n",
    "print_personalized_cheery_message(user_name)\n"
   ]
  },
  {
   "cell_type": "raw",
   "id": "6dbf5934",
   "metadata": {},
   "source": [
    "4.When processing data it is oft en useful to remove the last character from some\n",
    "input (it is oft en a newline). Write and test a function that takes a string parameter\n",
    "and returns it with the last character removed. (If the string contains one or fewer\n",
    "characters, return it unchanged.)"
   ]
  },
  {
   "cell_type": "code",
   "execution_count": 6,
   "id": "a10c16ae",
   "metadata": {},
   "outputs": [
    {
     "name": "stdout",
     "output_type": "stream",
     "text": [
      "Enter a string: Python\n",
      "Original String: Python\n",
      "String with Last Character Removed: Pytho\n"
     ]
    }
   ],
   "source": [
    "# Function to remove the last character from a string\n",
    "def remove_last_character(input_string):\n",
    "    if len(input_string) > 1:\n",
    "        return input_string[:-1]\n",
    "    else:\n",
    "        return input_string\n",
    "\n",
    "# Test the function\n",
    "user_input = input(\"Enter a string: \")\n",
    "result = remove_last_character(user_input)\n",
    "\n",
    "print(f\"Original String: {user_input}\")\n",
    "print(f\"String with Last Character Removed: {result}\")\n"
   ]
  },
  {
   "cell_type": "raw",
   "id": "e9ade826",
   "metadata": {},
   "source": [
    "5.Write and test a function that converts a temperature measured in degrees\n",
    "centigrade into the equivalent in fahrenheit, and another that does the reverse\n",
    "conversion. Test both functions. (Google will find you the formulae)."
   ]
  },
  {
   "cell_type": "code",
   "execution_count": 7,
   "id": "66cd62a7",
   "metadata": {},
   "outputs": [
    {
     "name": "stdout",
     "output_type": "stream",
     "text": [
      "25 degrees Celsius is equal to 77.00 degrees Fahrenheit.\n",
      "77 degrees Fahrenheit is equal to 25.00 degrees Celsius.\n"
     ]
    }
   ],
   "source": [
    "# Function to convert Celsius to Fahrenheit\n",
    "def celsius_to_fahrenheit(celsius):\n",
    "    return (celsius * 9/5) + 32\n",
    "\n",
    "# Function to convert Fahrenheit to Celsius\n",
    "def fahrenheit_to_celsius(fahrenheit):\n",
    "    return (fahrenheit - 32) * 5/9\n",
    "\n",
    "# Test the functions\n",
    "celsius_temperature = 25\n",
    "fahrenheit_temperature = 77\n",
    "\n",
    "converted_fahrenheit = celsius_to_fahrenheit(celsius_temperature)\n",
    "converted_celsius = fahrenheit_to_celsius(fahrenheit_temperature)\n",
    "\n",
    "print(f\"{celsius_temperature} degrees Celsius is equal to {converted_fahrenheit:.2f} degrees Fahrenheit.\")\n",
    "print(f\"{fahrenheit_temperature} degrees Fahrenheit is equal to {converted_celsius:.2f} degrees Celsius.\")\n"
   ]
  },
  {
   "cell_type": "raw",
   "id": "ddcb374b",
   "metadata": {},
   "source": [
    "6.Write a program that takes a centigrade temperature and displays the equivalent in\n",
    "fahrenheit. The input should be a number followed by a letter C. The output should\n",
    "be in the same format."
   ]
  },
  {
   "cell_type": "code",
   "execution_count": 8,
   "id": "6a76c21a",
   "metadata": {},
   "outputs": [
    {
     "name": "stdout",
     "output_type": "stream",
     "text": [
      "Enter a centigrade temperature (e.g., 25 C): 24\n",
      "The equivalent in Fahrenheit: 75.20 F\n"
     ]
    }
   ],
   "source": [
    "def celsius_to_fahrenheit(celsius):\n",
    "    return (celsius * 9/5) + 32\n",
    "\n",
    "# Get user input for centigrade temperature\n",
    "user_input = input(\"Enter a centigrade temperature (e.g., 25 C): \")\n",
    "\n",
    "# Extract the numerical value from user input\n",
    "try:\n",
    "    celsius_temperature = float(user_input.split()[0])  # Extract the first part as a float\n",
    "except ValueError:\n",
    "    print(\"Error: Please enter a valid numeric temperature followed by 'C'.\")\n",
    "    exit()\n",
    "\n",
    "# Convert to Fahrenheit\n",
    "fahrenheit_temperature = celsius_to_fahrenheit(celsius_temperature)\n",
    "\n",
    "# Display the result\n",
    "print(f\"The equivalent in Fahrenheit: {fahrenheit_temperature:.2f} F\")\n"
   ]
  },
  {
   "cell_type": "raw",
   "id": "78295d5b",
   "metadata": {},
   "source": [
    "7.Write a program that reads 6 temperatures (in the same format as before), and\n",
    "displays the maximum, minimum, and mean of the values.\n",
    "Hint: You should know there are built-in functions for max and min. If you hunt, you\n",
    "might also find one for the mean."
   ]
  },
  {
   "cell_type": "code",
   "execution_count": 18,
   "id": "ffd8ae19",
   "metadata": {},
   "outputs": [
    {
     "name": "stdout",
     "output_type": "stream",
     "text": [
      "Enter temperature 1 in centigrade (e.g., 25 C): 21\n",
      "Enter temperature 2 in centigrade (e.g., 25 C): 22\n",
      "Enter temperature 3 in centigrade (e.g., 25 C): 23\n",
      "Enter temperature 4 in centigrade (e.g., 25 C): 24\n",
      "Enter temperature 5 in centigrade (e.g., 25 C): 35\n",
      "Enter temperature 6 in centigrade (e.g., 25 C): 36\n",
      "Maximum Temperature: 96.80 F\n",
      "Minimum Temperature: 69.80 F\n",
      "Mean Temperature: 80.30 F\n"
     ]
    }
   ],
   "source": [
    "def celsius_to_fahrenheit(celsius):\n",
    "    return (celsius * 9/5) + 32\n",
    "\n",
    "# Read 6 temperatures\n",
    "temperatures = []\n",
    "for i in range(6):\n",
    "    user_input = input(f\"Enter temperature {i + 1} in centigrade (e.g., 25 C): \")\n",
    "\n",
    "    try:\n",
    "        celsius_temperature = float(user_input.split()[0])  # Extract the first part as a float\n",
    "    except ValueError:\n",
    "        print(\"Error: Please enter a valid numeric temperature followed by 'C'.\")\n",
    "        exit()\n",
    "\n",
    "    temperatures.append(celsius_temperature)\n",
    "\n",
    "# Convert to Fahrenheit\n",
    "fahrenheit_temperatures = [celsius_to_fahrenheit(temp) for temp in temperatures]\n",
    "\n",
    "# Display the results\n",
    "max_temperature = max(fahrenheit_temperatures)\n",
    "min_temperature = min(fahrenheit_temperatures)\n",
    "mean_temperature = sum(fahrenheit_temperatures) / len(fahrenheit_temperatures)\n",
    "\n",
    "print(f\"Maximum Temperature: {max_temperature:.2f} F\")\n",
    "print(f\"Minimum Temperature: {min_temperature:.2f} F\")\n",
    "print(f\"Mean Temperature: {mean_temperature:.2f} F\")\n"
   ]
  },
  {
   "cell_type": "raw",
   "id": "79293a0c",
   "metadata": {},
   "source": [
    "8.Modify the previous program so that it can process any number of values. The input\n",
    "terminates when the user just pressed \"Enter\" at the prompt rather than entering a\n",
    "value."
   ]
  },
  {
   "cell_type": "code",
   "execution_count": 17,
   "id": "26993f5c",
   "metadata": {},
   "outputs": [
    {
     "name": "stdout",
     "output_type": "stream",
     "text": [
      "Enter a temperature in centigrade (or press Enter to finish): 30\n",
      "Enter a temperature in centigrade (or press Enter to finish): 31\n",
      "Enter a temperature in centigrade (or press Enter to finish): 32\n",
      "Enter a temperature in centigrade (or press Enter to finish): 33\n",
      "Enter a temperature in centigrade (or press Enter to finish): 34\n",
      "Enter a temperature in centigrade (or press Enter to finish): 35\n",
      "Enter a temperature in centigrade (or press Enter to finish): 36\n",
      "Enter a temperature in centigrade (or press Enter to finish): 37\n",
      "Enter a temperature in centigrade (or press Enter to finish): \n",
      "Maximum Temperature: 98.60 F\n",
      "Minimum Temperature: 86.00 F\n",
      "Mean Temperature: 92.30 F\n"
     ]
    }
   ],
   "source": [
    "def celsius_to_fahrenheit(celsius):\n",
    "    return (celsius * 9/5) + 32\n",
    "\n",
    "# Read temperatures until the user presses Enter\n",
    "temperatures = []\n",
    "while True:\n",
    "    user_input = input(\"Enter a temperature in centigrade (or press Enter to finish): \")\n",
    "\n",
    "    # Check if the user pressed Enter\n",
    "    if user_input == \"\":\n",
    "        break\n",
    "\n",
    "    try:\n",
    "        celsius_temperature = float(user_input.split()[0])  # Extract the first part as a float\n",
    "    except ValueError:\n",
    "        print(\"Error: Please enter a valid numeric temperature followed by 'C' or press Enter to finish.\")\n",
    "        continue\n",
    "\n",
    "    temperatures.append(celsius_temperature)\n",
    "\n",
    "# Convert to Fahrenheit\n",
    "fahrenheit_temperatures = [celsius_to_fahrenheit(temp) for temp in temperatures]\n",
    "\n",
    "# Display the results\n",
    "if temperatures:\n",
    "    max_temperature = max(fahrenheit_temperatures)\n",
    "    min_temperature = min(fahrenheit_temperatures)\n",
    "    mean_temperature = sum(fahrenheit_temperatures) / len(fahrenheit_temperatures)\n",
    "\n",
    "    print(f\"Maximum Temperature: {max_temperature:.2f} F\")\n",
    "    print(f\"Minimum Temperature: {min_temperature:.2f} F\")\n",
    "    print(f\"Mean Temperature: {mean_temperature:.2f} F\")\n",
    "else:\n",
    "    print(\"No temperatures entered.\")\n",
    "\n"
   ]
  },
  {
   "cell_type": "code",
   "execution_count": null,
   "id": "74b31304",
   "metadata": {},
   "outputs": [],
   "source": []
  }
 ],
 "metadata": {
  "kernelspec": {
   "display_name": "Python 3 (ipykernel)",
   "language": "python",
   "name": "python3"
  },
  "language_info": {
   "codemirror_mode": {
    "name": "ipython",
    "version": 3
   },
   "file_extension": ".py",
   "mimetype": "text/x-python",
   "name": "python",
   "nbconvert_exporter": "python",
   "pygments_lexer": "ipython3",
   "version": "3.9.13"
  }
 },
 "nbformat": 4,
 "nbformat_minor": 5
}
